{
 "cells": [
  {
   "cell_type": "markdown",
   "metadata": {},
   "source": [
    "# Arquivo de testes - Interceptor\n",
    "\n",
    "### Cenários de testes\n",
    "\n",
    "| **TESTES**                              | **STATUS**   |\n",
    "| --------------------------------------- | ------------ |\n",
    "| 1. teste função geradora de data e hora | `Andamento ` |\n",
    "| 2."
   ]
  },
  {
   "cell_type": "code",
   "execution_count": 17,
   "metadata": {},
   "outputs": [],
   "source": [
    "# Bibliotecas e Dependencias\n",
    "import os\n",
    "import sys\n",
    "import datetime\n",
    "# import requests\n",
    "import json\n"
   ]
  },
  {
   "cell_type": "code",
   "execution_count": 16,
   "metadata": {},
   "outputs": [
    {
     "name": "stdout",
     "output_type": "stream",
     "text": [
      "2025-03-26 00:07:43\n"
     ]
    }
   ],
   "source": [
    "# TESTE 1\n",
    "\n",
    "def gerador_data_hora():\n",
    "    today = datetime.datetime.now()\n",
    "    return today\n",
    "\n",
    "def test_cenario_1():\n",
    "\n",
    "    data = gerador_data_hora()\n",
    "\n",
    "    data = data.strftime(\"%Y-%m-%d %H:%M:%S\")\n",
    "    print(data)\n",
    "\n",
    "    assert data is not None\n",
    "    assert data is not str\n",
    "    assert data is not int\n",
    "    assert data is not float\n",
    "    assert data is not bool\n",
    "    assert data is not dict\n",
    "    assert data is not list\n",
    "    assert data is not tuple\n",
    "    assert data is not set\n",
    "    assert data is not bytes\n",
    "    assert data is not bytearray\n",
    "    assert data is not memoryview\n",
    "\n",
    "test_cenario_1()"
   ]
  }
 ],
 "metadata": {
  "kernelspec": {
   "display_name": "Python 3",
   "language": "python",
   "name": "python3"
  },
  "language_info": {
   "codemirror_mode": {
    "name": "ipython",
    "version": 3
   },
   "file_extension": ".py",
   "mimetype": "text/x-python",
   "name": "python",
   "nbconvert_exporter": "python",
   "pygments_lexer": "ipython3",
   "version": "3.12.2"
  }
 },
 "nbformat": 4,
 "nbformat_minor": 2
}
